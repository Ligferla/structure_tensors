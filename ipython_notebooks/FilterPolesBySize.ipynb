{
 "metadata": {
  "name": "FilterPolesBySize"
 },
 "nbformat": 3,
 "nbformat_minor": 0,
 "worksheets": [
  {
   "cells": [
    {
     "cell_type": "code",
     "collapsed": false,
     "input": "import numpy as np\nimport cv\nimport sys\nimport os",
     "language": "python",
     "metadata": {},
     "outputs": [],
     "prompt_number": 6
    },
    {
     "cell_type": "code",
     "collapsed": false,
     "input": "indir = '/tmp/pole_retriever_dir/positive_poles/'\n\nmin_height = sys.maxsize\nfor root, dirs, filenames in os.walk(indir):\n    for f in filenames:\n        img = cv2.imread(indir + f,0)\n        height_in_px, width_in_px = img.shape[:2]\n        if (height_in_px < min_height):\n            min_height = height_in_px\n\nprint(\"min_height: \", min_height)     \n        \nfor root, dirs, filenames in os.walk(indir):\n    for f in filenames:\n        path_to_file = indir + f\n        img = cv2.imread(path_to_file,0)\n        height_in_px, width_in_px = img.shape[:2]\n        if (height_in_px > min_height * 2.5):\n            os.remove(path_to_file)",
     "language": "python",
     "metadata": {},
     "outputs": [
      {
       "output_type": "stream",
       "stream": "stdout",
       "text": "('min_height: ', 177)\n"
      }
     ],
     "prompt_number": 7
    },
    {
     "cell_type": "code",
     "collapsed": false,
     "input": "",
     "language": "python",
     "metadata": {},
     "outputs": []
    }
   ],
   "metadata": {}
  }
 ]
}